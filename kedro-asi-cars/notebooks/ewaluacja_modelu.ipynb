{
 "cells": [
  {
   "metadata": {
    "ExecuteTime": {
     "end_time": "2025-06-05T10:49:54.312787Z",
     "start_time": "2025-06-05T10:49:52.453896Z"
    }
   },
   "cell_type": "code",
   "source": [
    "from pycaret.regression import load_model, evaluate_model, setup\n",
    "import pandas as pd"
   ],
   "id": "44f35514b2c7bc99",
   "outputs": [],
   "execution_count": 1
  },
  {
   "metadata": {
    "ExecuteTime": {
     "end_time": "2025-06-05T10:49:57.015803Z",
     "start_time": "2025-06-05T10:49:54.313787Z"
    }
   },
   "cell_type": "code",
   "source": [
    "data = pd.read_csv(\"../data/04_feature/Car_Prices_Poland_Kaggle_with_mileage_per_years.csv\")\n",
    "setup(data=data, target='price')\n",
    "\n",
    "ai_model = load_model('best_model_with_pipeline')"
   ],
   "id": "4c355329bb3e278c",
   "outputs": [
    {
     "data": {
      "text/plain": [
       "<pandas.io.formats.style.Styler at 0x26b4a3e52b0>"
      ],
      "text/html": [
       "<style type=\"text/css\">\n",
       "#T_a11f3_row9_col1 {\n",
       "  background-color: lightgreen;\n",
       "}\n",
       "</style>\n",
       "<table id=\"T_a11f3\">\n",
       "  <thead>\n",
       "    <tr>\n",
       "      <th class=\"blank level0\" >&nbsp;</th>\n",
       "      <th id=\"T_a11f3_level0_col0\" class=\"col_heading level0 col0\" >Description</th>\n",
       "      <th id=\"T_a11f3_level0_col1\" class=\"col_heading level0 col1\" >Value</th>\n",
       "    </tr>\n",
       "  </thead>\n",
       "  <tbody>\n",
       "    <tr>\n",
       "      <th id=\"T_a11f3_level0_row0\" class=\"row_heading level0 row0\" >0</th>\n",
       "      <td id=\"T_a11f3_row0_col0\" class=\"data row0 col0\" >Session id</td>\n",
       "      <td id=\"T_a11f3_row0_col1\" class=\"data row0 col1\" >4512</td>\n",
       "    </tr>\n",
       "    <tr>\n",
       "      <th id=\"T_a11f3_level0_row1\" class=\"row_heading level0 row1\" >1</th>\n",
       "      <td id=\"T_a11f3_row1_col0\" class=\"data row1 col0\" >Target</td>\n",
       "      <td id=\"T_a11f3_row1_col1\" class=\"data row1 col1\" >price</td>\n",
       "    </tr>\n",
       "    <tr>\n",
       "      <th id=\"T_a11f3_level0_row2\" class=\"row_heading level0 row2\" >2</th>\n",
       "      <td id=\"T_a11f3_row2_col0\" class=\"data row2 col0\" >Target type</td>\n",
       "      <td id=\"T_a11f3_row2_col1\" class=\"data row2 col1\" >Regression</td>\n",
       "    </tr>\n",
       "    <tr>\n",
       "      <th id=\"T_a11f3_level0_row3\" class=\"row_heading level0 row3\" >3</th>\n",
       "      <td id=\"T_a11f3_row3_col0\" class=\"data row3 col0\" >Original data shape</td>\n",
       "      <td id=\"T_a11f3_row3_col1\" class=\"data row3 col1\" >(117927, 9)</td>\n",
       "    </tr>\n",
       "    <tr>\n",
       "      <th id=\"T_a11f3_level0_row4\" class=\"row_heading level0 row4\" >4</th>\n",
       "      <td id=\"T_a11f3_row4_col0\" class=\"data row4 col0\" >Transformed data shape</td>\n",
       "      <td id=\"T_a11f3_row4_col1\" class=\"data row4 col1\" >(117927, 57)</td>\n",
       "    </tr>\n",
       "    <tr>\n",
       "      <th id=\"T_a11f3_level0_row5\" class=\"row_heading level0 row5\" >5</th>\n",
       "      <td id=\"T_a11f3_row5_col0\" class=\"data row5 col0\" >Transformed train set shape</td>\n",
       "      <td id=\"T_a11f3_row5_col1\" class=\"data row5 col1\" >(82548, 57)</td>\n",
       "    </tr>\n",
       "    <tr>\n",
       "      <th id=\"T_a11f3_level0_row6\" class=\"row_heading level0 row6\" >6</th>\n",
       "      <td id=\"T_a11f3_row6_col0\" class=\"data row6 col0\" >Transformed test set shape</td>\n",
       "      <td id=\"T_a11f3_row6_col1\" class=\"data row6 col1\" >(35379, 57)</td>\n",
       "    </tr>\n",
       "    <tr>\n",
       "      <th id=\"T_a11f3_level0_row7\" class=\"row_heading level0 row7\" >7</th>\n",
       "      <td id=\"T_a11f3_row7_col0\" class=\"data row7 col0\" >Numeric features</td>\n",
       "      <td id=\"T_a11f3_row7_col1\" class=\"data row7 col1\" >4</td>\n",
       "    </tr>\n",
       "    <tr>\n",
       "      <th id=\"T_a11f3_level0_row8\" class=\"row_heading level0 row8\" >8</th>\n",
       "      <td id=\"T_a11f3_row8_col0\" class=\"data row8 col0\" >Categorical features</td>\n",
       "      <td id=\"T_a11f3_row8_col1\" class=\"data row8 col1\" >4</td>\n",
       "    </tr>\n",
       "    <tr>\n",
       "      <th id=\"T_a11f3_level0_row9\" class=\"row_heading level0 row9\" >9</th>\n",
       "      <td id=\"T_a11f3_row9_col0\" class=\"data row9 col0\" >Preprocess</td>\n",
       "      <td id=\"T_a11f3_row9_col1\" class=\"data row9 col1\" >True</td>\n",
       "    </tr>\n",
       "    <tr>\n",
       "      <th id=\"T_a11f3_level0_row10\" class=\"row_heading level0 row10\" >10</th>\n",
       "      <td id=\"T_a11f3_row10_col0\" class=\"data row10 col0\" >Imputation type</td>\n",
       "      <td id=\"T_a11f3_row10_col1\" class=\"data row10 col1\" >simple</td>\n",
       "    </tr>\n",
       "    <tr>\n",
       "      <th id=\"T_a11f3_level0_row11\" class=\"row_heading level0 row11\" >11</th>\n",
       "      <td id=\"T_a11f3_row11_col0\" class=\"data row11 col0\" >Numeric imputation</td>\n",
       "      <td id=\"T_a11f3_row11_col1\" class=\"data row11 col1\" >mean</td>\n",
       "    </tr>\n",
       "    <tr>\n",
       "      <th id=\"T_a11f3_level0_row12\" class=\"row_heading level0 row12\" >12</th>\n",
       "      <td id=\"T_a11f3_row12_col0\" class=\"data row12 col0\" >Categorical imputation</td>\n",
       "      <td id=\"T_a11f3_row12_col1\" class=\"data row12 col1\" >mode</td>\n",
       "    </tr>\n",
       "    <tr>\n",
       "      <th id=\"T_a11f3_level0_row13\" class=\"row_heading level0 row13\" >13</th>\n",
       "      <td id=\"T_a11f3_row13_col0\" class=\"data row13 col0\" >Maximum one-hot encoding</td>\n",
       "      <td id=\"T_a11f3_row13_col1\" class=\"data row13 col1\" >25</td>\n",
       "    </tr>\n",
       "    <tr>\n",
       "      <th id=\"T_a11f3_level0_row14\" class=\"row_heading level0 row14\" >14</th>\n",
       "      <td id=\"T_a11f3_row14_col0\" class=\"data row14 col0\" >Encoding method</td>\n",
       "      <td id=\"T_a11f3_row14_col1\" class=\"data row14 col1\" >None</td>\n",
       "    </tr>\n",
       "    <tr>\n",
       "      <th id=\"T_a11f3_level0_row15\" class=\"row_heading level0 row15\" >15</th>\n",
       "      <td id=\"T_a11f3_row15_col0\" class=\"data row15 col0\" >Fold Generator</td>\n",
       "      <td id=\"T_a11f3_row15_col1\" class=\"data row15 col1\" >KFold</td>\n",
       "    </tr>\n",
       "    <tr>\n",
       "      <th id=\"T_a11f3_level0_row16\" class=\"row_heading level0 row16\" >16</th>\n",
       "      <td id=\"T_a11f3_row16_col0\" class=\"data row16 col0\" >Fold Number</td>\n",
       "      <td id=\"T_a11f3_row16_col1\" class=\"data row16 col1\" >10</td>\n",
       "    </tr>\n",
       "    <tr>\n",
       "      <th id=\"T_a11f3_level0_row17\" class=\"row_heading level0 row17\" >17</th>\n",
       "      <td id=\"T_a11f3_row17_col0\" class=\"data row17 col0\" >CPU Jobs</td>\n",
       "      <td id=\"T_a11f3_row17_col1\" class=\"data row17 col1\" >-1</td>\n",
       "    </tr>\n",
       "    <tr>\n",
       "      <th id=\"T_a11f3_level0_row18\" class=\"row_heading level0 row18\" >18</th>\n",
       "      <td id=\"T_a11f3_row18_col0\" class=\"data row18 col0\" >Use GPU</td>\n",
       "      <td id=\"T_a11f3_row18_col1\" class=\"data row18 col1\" >False</td>\n",
       "    </tr>\n",
       "    <tr>\n",
       "      <th id=\"T_a11f3_level0_row19\" class=\"row_heading level0 row19\" >19</th>\n",
       "      <td id=\"T_a11f3_row19_col0\" class=\"data row19 col0\" >Log Experiment</td>\n",
       "      <td id=\"T_a11f3_row19_col1\" class=\"data row19 col1\" >False</td>\n",
       "    </tr>\n",
       "    <tr>\n",
       "      <th id=\"T_a11f3_level0_row20\" class=\"row_heading level0 row20\" >20</th>\n",
       "      <td id=\"T_a11f3_row20_col0\" class=\"data row20 col0\" >Experiment Name</td>\n",
       "      <td id=\"T_a11f3_row20_col1\" class=\"data row20 col1\" >reg-default-name</td>\n",
       "    </tr>\n",
       "    <tr>\n",
       "      <th id=\"T_a11f3_level0_row21\" class=\"row_heading level0 row21\" >21</th>\n",
       "      <td id=\"T_a11f3_row21_col0\" class=\"data row21 col0\" >USI</td>\n",
       "      <td id=\"T_a11f3_row21_col1\" class=\"data row21 col1\" >aa7f</td>\n",
       "    </tr>\n",
       "  </tbody>\n",
       "</table>\n"
      ]
     },
     "metadata": {},
     "output_type": "display_data"
    },
    {
     "name": "stdout",
     "output_type": "stream",
     "text": [
      "Transformation Pipeline and Model Successfully Loaded\n"
     ]
    }
   ],
   "execution_count": 2
  },
  {
   "metadata": {
    "ExecuteTime": {
     "end_time": "2025-06-05T10:49:57.257963Z",
     "start_time": "2025-06-05T10:49:57.016803Z"
    }
   },
   "cell_type": "code",
   "source": "evaluate_model(ai_model)",
   "id": "fcb3f111b77b6722",
   "outputs": [
    {
     "data": {
      "text/plain": [
       "interactive(children=(ToggleButtons(description='Plot Type:', icons=('',), options=(('Pipeline Plot', 'pipelin…"
      ],
      "application/vnd.jupyter.widget-view+json": {
       "version_major": 2,
       "version_minor": 0,
       "model_id": "ec007fb29f4b469ebaadcae8bb0d1199"
      }
     },
     "metadata": {},
     "output_type": "display_data"
    }
   ],
   "execution_count": 3
  },
  {
   "metadata": {
    "ExecuteTime": {
     "end_time": "2025-06-05T10:49:57.273194Z",
     "start_time": "2025-06-05T10:49:57.259066Z"
    }
   },
   "cell_type": "code",
   "source": "",
   "id": "b81a9ed8813e94c5",
   "outputs": [
    {
     "name": "stdout",
     "output_type": "stream",
     "text": [
      "                    Description             Value\n",
      "0                    Session id              4512\n",
      "1                        Target             price\n",
      "2                   Target type        Regression\n",
      "3           Original data shape       (117927, 9)\n",
      "4        Transformed data shape      (117927, 57)\n",
      "5   Transformed train set shape       (82548, 57)\n",
      "6    Transformed test set shape       (35379, 57)\n",
      "7              Numeric features                 4\n",
      "8          Categorical features                 4\n",
      "9                    Preprocess              True\n",
      "10              Imputation type            simple\n",
      "11           Numeric imputation              mean\n",
      "12       Categorical imputation              mode\n",
      "13     Maximum one-hot encoding                25\n",
      "14              Encoding method              None\n",
      "15               Fold Generator             KFold\n",
      "16                  Fold Number                10\n",
      "17                     CPU Jobs                -1\n",
      "18                      Use GPU             False\n",
      "19               Log Experiment             False\n",
      "20              Experiment Name  reg-default-name\n",
      "21                          USI              aa7f\n"
     ]
    }
   ],
   "execution_count": 4
  }
 ],
 "metadata": {
  "kernelspec": {
   "display_name": "Python 3",
   "language": "python",
   "name": "python3"
  },
  "language_info": {
   "codemirror_mode": {
    "name": "ipython",
    "version": 2
   },
   "file_extension": ".py",
   "mimetype": "text/x-python",
   "name": "python",
   "nbconvert_exporter": "python",
   "pygments_lexer": "ipython2",
   "version": "2.7.6"
  }
 },
 "nbformat": 4,
 "nbformat_minor": 5
}
