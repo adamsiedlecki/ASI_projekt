{
 "cells": [
  {
   "cell_type": "code",
   "id": "initial_id",
   "metadata": {
    "collapsed": true,
    "ExecuteTime": {
     "end_time": "2025-04-26T18:19:00.440863Z",
     "start_time": "2025-04-26T18:19:00.435388Z"
    }
   },
   "source": [
    ""
   ],
   "outputs": [],
   "execution_count": null
  },
  {
   "metadata": {
    "ExecuteTime": {
     "end_time": "2025-04-26T18:19:00.458837Z",
     "start_time": "2025-04-26T18:19:00.445881Z"
    }
   },
   "cell_type": "code",
   "source": [
    "import pandas as pd\n",
    "import numpy as np\n",
    "import seaborn as sns                       #visualisation\n",
    "import matplotlib.pyplot as plt             #visualisation\n",
    "%matplotlib inline\n",
    "sns.set(color_codes=True)"
   ],
   "id": "629a75e356a49037",
   "outputs": [],
   "execution_count": 18
  },
  {
   "metadata": {
    "ExecuteTime": {
     "end_time": "2025-04-26T18:19:00.599512Z",
     "start_time": "2025-04-26T18:19:00.465655Z"
    }
   },
   "cell_type": "code",
   "source": [
    "df = pd.read_csv(\"./kedro-asi-cars/data/01_raw/Car_Prices_Poland_Kaggle.csv\")\n",
    "# To display the top 5 rows\n",
    "df.head(5)"
   ],
   "id": "5036733419efc8df",
   "outputs": [
    {
     "data": {
      "text/plain": [
       "   Unnamed: 0  mark  model generation_name  year  mileage  vol_engine    fuel  \\\n",
       "0           0  opel  combo      gen-d-2011  2015   139568        1248  Diesel   \n",
       "1           1  opel  combo      gen-d-2011  2018    31991        1499  Diesel   \n",
       "2           2  opel  combo      gen-d-2011  2015   278437        1598  Diesel   \n",
       "3           3  opel  combo      gen-d-2011  2016    47600        1248  Diesel   \n",
       "4           4  opel  combo      gen-d-2011  2014   103000        1400     CNG   \n",
       "\n",
       "              city     province  price  \n",
       "0            Janki  Mazowieckie  35900  \n",
       "1         Katowice      Śląskie  78501  \n",
       "2            Brzeg     Opolskie  27000  \n",
       "3        Korfantów     Opolskie  30800  \n",
       "4  Tarnowskie Góry      Śląskie  35900  "
      ],
      "text/html": [
       "<div>\n",
       "<style scoped>\n",
       "    .dataframe tbody tr th:only-of-type {\n",
       "        vertical-align: middle;\n",
       "    }\n",
       "\n",
       "    .dataframe tbody tr th {\n",
       "        vertical-align: top;\n",
       "    }\n",
       "\n",
       "    .dataframe thead th {\n",
       "        text-align: right;\n",
       "    }\n",
       "</style>\n",
       "<table border=\"1\" class=\"dataframe\">\n",
       "  <thead>\n",
       "    <tr style=\"text-align: right;\">\n",
       "      <th></th>\n",
       "      <th>Unnamed: 0</th>\n",
       "      <th>mark</th>\n",
       "      <th>model</th>\n",
       "      <th>generation_name</th>\n",
       "      <th>year</th>\n",
       "      <th>mileage</th>\n",
       "      <th>vol_engine</th>\n",
       "      <th>fuel</th>\n",
       "      <th>city</th>\n",
       "      <th>province</th>\n",
       "      <th>price</th>\n",
       "    </tr>\n",
       "  </thead>\n",
       "  <tbody>\n",
       "    <tr>\n",
       "      <th>0</th>\n",
       "      <td>0</td>\n",
       "      <td>opel</td>\n",
       "      <td>combo</td>\n",
       "      <td>gen-d-2011</td>\n",
       "      <td>2015</td>\n",
       "      <td>139568</td>\n",
       "      <td>1248</td>\n",
       "      <td>Diesel</td>\n",
       "      <td>Janki</td>\n",
       "      <td>Mazowieckie</td>\n",
       "      <td>35900</td>\n",
       "    </tr>\n",
       "    <tr>\n",
       "      <th>1</th>\n",
       "      <td>1</td>\n",
       "      <td>opel</td>\n",
       "      <td>combo</td>\n",
       "      <td>gen-d-2011</td>\n",
       "      <td>2018</td>\n",
       "      <td>31991</td>\n",
       "      <td>1499</td>\n",
       "      <td>Diesel</td>\n",
       "      <td>Katowice</td>\n",
       "      <td>Śląskie</td>\n",
       "      <td>78501</td>\n",
       "    </tr>\n",
       "    <tr>\n",
       "      <th>2</th>\n",
       "      <td>2</td>\n",
       "      <td>opel</td>\n",
       "      <td>combo</td>\n",
       "      <td>gen-d-2011</td>\n",
       "      <td>2015</td>\n",
       "      <td>278437</td>\n",
       "      <td>1598</td>\n",
       "      <td>Diesel</td>\n",
       "      <td>Brzeg</td>\n",
       "      <td>Opolskie</td>\n",
       "      <td>27000</td>\n",
       "    </tr>\n",
       "    <tr>\n",
       "      <th>3</th>\n",
       "      <td>3</td>\n",
       "      <td>opel</td>\n",
       "      <td>combo</td>\n",
       "      <td>gen-d-2011</td>\n",
       "      <td>2016</td>\n",
       "      <td>47600</td>\n",
       "      <td>1248</td>\n",
       "      <td>Diesel</td>\n",
       "      <td>Korfantów</td>\n",
       "      <td>Opolskie</td>\n",
       "      <td>30800</td>\n",
       "    </tr>\n",
       "    <tr>\n",
       "      <th>4</th>\n",
       "      <td>4</td>\n",
       "      <td>opel</td>\n",
       "      <td>combo</td>\n",
       "      <td>gen-d-2011</td>\n",
       "      <td>2014</td>\n",
       "      <td>103000</td>\n",
       "      <td>1400</td>\n",
       "      <td>CNG</td>\n",
       "      <td>Tarnowskie Góry</td>\n",
       "      <td>Śląskie</td>\n",
       "      <td>35900</td>\n",
       "    </tr>\n",
       "  </tbody>\n",
       "</table>\n",
       "</div>"
      ]
     },
     "execution_count": 19,
     "metadata": {},
     "output_type": "execute_result"
    }
   ],
   "execution_count": 19
  },
  {
   "metadata": {
    "ExecuteTime": {
     "end_time": "2025-04-26T18:19:00.630628Z",
     "start_time": "2025-04-26T18:19:00.627938Z"
    }
   },
   "cell_type": "code",
   "source": "",
   "id": "5ada2ad79016c5d1",
   "outputs": [],
   "execution_count": null
  },
  {
   "metadata": {
    "ExecuteTime": {
     "end_time": "2025-04-26T18:19:00.673898Z",
     "start_time": "2025-04-26T18:19:00.666324Z"
    }
   },
   "cell_type": "code",
   "source": "df.tail(5) ",
   "id": "7d2a2628fdf6c247",
   "outputs": [
    {
     "data": {
      "text/plain": [
       "        Unnamed: 0   mark  model    generation_name  year  mileage  \\\n",
       "117922      117922  volvo  xc-90  gen-ii-2014-xc-90  2020    40000   \n",
       "117923      117923  volvo  xc-90  gen-ii-2014-xc-90  2017    51000   \n",
       "117924      117924  volvo  xc-90  gen-ii-2014-xc-90  2016    83500   \n",
       "117925      117925  volvo  xc-90  gen-ii-2014-xc-90  2017   174000   \n",
       "117926      117926  volvo  xc-90  gen-ii-2014-xc-90  2016   189020   \n",
       "\n",
       "        vol_engine      fuel              city       province   price  \n",
       "117922        1969    Hybrid          Katowice        Śląskie  222790  \n",
       "117923        1969    Diesel  Chechło Pierwsze        Łódzkie  229900  \n",
       "117924        1969  Gasoline   Pruszcz Gdański      Pomorskie  135000  \n",
       "117925        1969    Diesel            Kalisz  Wielkopolskie  154500  \n",
       "117926        1969  Gasoline            Sionna    Mazowieckie  130000  "
      ],
      "text/html": [
       "<div>\n",
       "<style scoped>\n",
       "    .dataframe tbody tr th:only-of-type {\n",
       "        vertical-align: middle;\n",
       "    }\n",
       "\n",
       "    .dataframe tbody tr th {\n",
       "        vertical-align: top;\n",
       "    }\n",
       "\n",
       "    .dataframe thead th {\n",
       "        text-align: right;\n",
       "    }\n",
       "</style>\n",
       "<table border=\"1\" class=\"dataframe\">\n",
       "  <thead>\n",
       "    <tr style=\"text-align: right;\">\n",
       "      <th></th>\n",
       "      <th>Unnamed: 0</th>\n",
       "      <th>mark</th>\n",
       "      <th>model</th>\n",
       "      <th>generation_name</th>\n",
       "      <th>year</th>\n",
       "      <th>mileage</th>\n",
       "      <th>vol_engine</th>\n",
       "      <th>fuel</th>\n",
       "      <th>city</th>\n",
       "      <th>province</th>\n",
       "      <th>price</th>\n",
       "    </tr>\n",
       "  </thead>\n",
       "  <tbody>\n",
       "    <tr>\n",
       "      <th>117922</th>\n",
       "      <td>117922</td>\n",
       "      <td>volvo</td>\n",
       "      <td>xc-90</td>\n",
       "      <td>gen-ii-2014-xc-90</td>\n",
       "      <td>2020</td>\n",
       "      <td>40000</td>\n",
       "      <td>1969</td>\n",
       "      <td>Hybrid</td>\n",
       "      <td>Katowice</td>\n",
       "      <td>Śląskie</td>\n",
       "      <td>222790</td>\n",
       "    </tr>\n",
       "    <tr>\n",
       "      <th>117923</th>\n",
       "      <td>117923</td>\n",
       "      <td>volvo</td>\n",
       "      <td>xc-90</td>\n",
       "      <td>gen-ii-2014-xc-90</td>\n",
       "      <td>2017</td>\n",
       "      <td>51000</td>\n",
       "      <td>1969</td>\n",
       "      <td>Diesel</td>\n",
       "      <td>Chechło Pierwsze</td>\n",
       "      <td>Łódzkie</td>\n",
       "      <td>229900</td>\n",
       "    </tr>\n",
       "    <tr>\n",
       "      <th>117924</th>\n",
       "      <td>117924</td>\n",
       "      <td>volvo</td>\n",
       "      <td>xc-90</td>\n",
       "      <td>gen-ii-2014-xc-90</td>\n",
       "      <td>2016</td>\n",
       "      <td>83500</td>\n",
       "      <td>1969</td>\n",
       "      <td>Gasoline</td>\n",
       "      <td>Pruszcz Gdański</td>\n",
       "      <td>Pomorskie</td>\n",
       "      <td>135000</td>\n",
       "    </tr>\n",
       "    <tr>\n",
       "      <th>117925</th>\n",
       "      <td>117925</td>\n",
       "      <td>volvo</td>\n",
       "      <td>xc-90</td>\n",
       "      <td>gen-ii-2014-xc-90</td>\n",
       "      <td>2017</td>\n",
       "      <td>174000</td>\n",
       "      <td>1969</td>\n",
       "      <td>Diesel</td>\n",
       "      <td>Kalisz</td>\n",
       "      <td>Wielkopolskie</td>\n",
       "      <td>154500</td>\n",
       "    </tr>\n",
       "    <tr>\n",
       "      <th>117926</th>\n",
       "      <td>117926</td>\n",
       "      <td>volvo</td>\n",
       "      <td>xc-90</td>\n",
       "      <td>gen-ii-2014-xc-90</td>\n",
       "      <td>2016</td>\n",
       "      <td>189020</td>\n",
       "      <td>1969</td>\n",
       "      <td>Gasoline</td>\n",
       "      <td>Sionna</td>\n",
       "      <td>Mazowieckie</td>\n",
       "      <td>130000</td>\n",
       "    </tr>\n",
       "  </tbody>\n",
       "</table>\n",
       "</div>"
      ]
     },
     "execution_count": 20,
     "metadata": {},
     "output_type": "execute_result"
    }
   ],
   "execution_count": 20
  },
  {
   "metadata": {
    "ExecuteTime": {
     "end_time": "2025-04-26T18:19:00.748666Z",
     "start_time": "2025-04-26T18:19:00.742901Z"
    }
   },
   "cell_type": "code",
   "source": "df.dtypes\n",
   "id": "7f04a329c27c6d1c",
   "outputs": [
    {
     "data": {
      "text/plain": [
       "Unnamed: 0          int64\n",
       "mark               object\n",
       "model              object\n",
       "generation_name    object\n",
       "year                int64\n",
       "mileage             int64\n",
       "vol_engine          int64\n",
       "fuel               object\n",
       "city               object\n",
       "province           object\n",
       "price               int64\n",
       "dtype: object"
      ]
     },
     "execution_count": 21,
     "metadata": {},
     "output_type": "execute_result"
    }
   ],
   "execution_count": 21
  },
  {
   "metadata": {
    "ExecuteTime": {
     "end_time": "2025-04-26T18:19:16.697365Z",
     "start_time": "2025-04-26T18:19:16.678900Z"
    }
   },
   "cell_type": "code",
   "source": "df.shape",
   "id": "aed9b45c414449bc",
   "outputs": [
    {
     "data": {
      "text/plain": [
       "(117927, 11)"
      ]
     },
     "execution_count": 23,
     "metadata": {},
     "output_type": "execute_result"
    }
   ],
   "execution_count": 23
  },
  {
   "metadata": {
    "ExecuteTime": {
     "end_time": "2025-04-26T18:19:00.883954Z",
     "start_time": "2025-04-26T18:19:00.821187Z"
    }
   },
   "cell_type": "code",
   "source": [
    "duplicate_rows_df = df[df.duplicated()]\n",
    "print(\"number of duplicate rows: \", duplicate_rows_df.shape)"
   ],
   "id": "984339a3dd6156ed",
   "outputs": [
    {
     "name": "stdout",
     "output_type": "stream",
     "text": [
      "number of duplicate rows:  (0, 11)\n"
     ]
    }
   ],
   "execution_count": 22
  },
  {
   "metadata": {
    "ExecuteTime": {
     "end_time": "2025-04-26T18:19:53.495979Z",
     "start_time": "2025-04-26T18:19:53.469019Z"
    }
   },
   "cell_type": "code",
   "source": "print(df.isnull().sum())",
   "id": "4413957eb1e8aab8",
   "outputs": [
    {
     "name": "stdout",
     "output_type": "stream",
     "text": [
      "Unnamed: 0             0\n",
      "mark                   0\n",
      "model                  0\n",
      "generation_name    30085\n",
      "year                   0\n",
      "mileage                0\n",
      "vol_engine             0\n",
      "fuel                   0\n",
      "city                   0\n",
      "province               0\n",
      "price                  0\n",
      "dtype: int64\n"
     ]
    }
   ],
   "execution_count": 24
  }
 ],
 "metadata": {
  "kernelspec": {
   "display_name": "Python 3",
   "language": "python",
   "name": "python3"
  },
  "language_info": {
   "codemirror_mode": {
    "name": "ipython",
    "version": 2
   },
   "file_extension": ".py",
   "mimetype": "text/x-python",
   "name": "python",
   "nbconvert_exporter": "python",
   "pygments_lexer": "ipython2",
   "version": "2.7.6"
  }
 },
 "nbformat": 4,
 "nbformat_minor": 5
}
